{
 "cells": [
  {
   "cell_type": "code",
   "execution_count": 1,
   "id": "cc5159cd",
   "metadata": {},
   "outputs": [],
   "source": [
    "# Imports\n",
    "import torch\n",
    "from torch import nn  # All neural network modules\n",
    "from torch import optim  # For optimizers like SGD, Adam, etc.\n",
    "from torch.utils.data import Dataset, DataLoader  # Gives easier dataset managment\n",
    "import torchvision\n",
    "import torchvision.datasets as datasets  # Standard datasets\n",
    "import torchvision.transforms as transforms  # Transformations we can perform on our dataset for augmentation\n",
    "import math\n",
    "import os\n",
    "import random\n",
    "import numpy as np\n",
    "from tqdm.notebook import tqdm\n",
    "from sklearn.metrics import accuracy_score"
   ]
  },
  {
   "cell_type": "code",
   "execution_count": null,
   "id": "44f5e898",
   "metadata": {},
   "outputs": [],
   "source": [
    "def set_seed(seed=27):\n",
    "    np.random.seed(seed)\n",
    "    random.seed(seed)\n",
    "    torch.manual_seed(seed)\n",
    "    torch.cuda.manual_seed(seed)\n",
    "    # When running on the CuDNN backend, two further options must be set\n",
    "    torch.backends.cudnn.deterministic = True\n",
    "    torch.backends.cudnn.benchmark = False\n",
    "    # Set a fixed value for the hash seed\n",
    "    os.environ[\"PYTHONHASHSEED\"] = str(seed)\n",
    "    print(f\"Random seed set as {seed}\")\n",
    "\n",
    "# Create a device variable which will be used to shift model and data to GPU if available\n",
    "device = torch.device(\"cuda\" if torch.cuda.is_available() else \"cpu\")\n",
    "set_seed(seed=27)\n",
    "device"
   ]
  },
  {
   "cell_type": "markdown",
   "id": "30f8d3a8",
   "metadata": {},
   "source": [
    "### 1. Download CIFAR10 dataset from torchvision"
   ]
  },
  {
   "cell_type": "code",
   "execution_count": null,
   "id": "aed1e2ac",
   "metadata": {},
   "outputs": [],
   "source": [
    "train_dataset = datasets.CIFAR10(root=\"dataset/\", train=True, transform=transforms.ToTensor(), download=True)\n",
    "test_dataset = datasets.CIFAR10(root=\"dataset/\", train=False, transform=transforms.ToTensor(), download=True)\n",
    "\n",
    "print(len(train_dataset)) \n",
    "print(len(test_dataset)) "
   ]
  },
  {
   "cell_type": "code",
   "execution_count": 4,
   "id": "15b78eb1",
   "metadata": {},
   "outputs": [],
   "source": [
    "# Hyperparameters \n",
    "batch_size = 64\n",
    "num_classes = 10\n",
    "learning_rate = 0.01\n",
    "num_epochs = 25"
   ]
  },
  {
   "cell_type": "code",
   "execution_count": 5,
   "id": "4e67738b",
   "metadata": {},
   "outputs": [],
   "source": [
    "# Making dataset iterable\n",
    "train_loader = DataLoader(dataset=train_dataset, batch_size=batch_size)\n",
    "test_loader = DataLoader(dataset=test_dataset, batch_size=batch_size)"
   ]
  },
  {
   "cell_type": "markdown",
   "id": "98c0aa20",
   "metadata": {},
   "source": [
    "### 2. Creating a Convolutional Neural Network (CNN)"
   ]
  },
  {
   "cell_type": "code",
   "execution_count": 6,
   "id": "30f04f5a",
   "metadata": {},
   "outputs": [],
   "source": [
    "# Creating a CNN class\n",
    "class ConvNeuralNet(nn.Module):\n",
    "\t#  Determine what layers and their order in CNN object \n",
    "    def __init__(self, num_classes):\n",
    "        super(ConvNeuralNet, self).__init__()\n",
    "        self.conv_layer1 = nn.Conv2d(in_channels=3, out_channels=32, kernel_size=3)\n",
    "        self.conv_layer2 = nn.Conv2d(in_channels=32, out_channels=32, kernel_size=3)\n",
    "        self.bn1 = nn.BatchNorm2d(32)\n",
    "        self.max_pool1 = nn.MaxPool2d(kernel_size = 2, stride = 2)\n",
    "        \n",
    "        self.conv_layer3 = nn.Conv2d(in_channels=32, out_channels=64, kernel_size=3)\n",
    "        self.conv_layer4 = nn.Conv2d(in_channels=64, out_channels=64, kernel_size=3)\n",
    "        self.bn2 = nn.BatchNorm2d(64)\n",
    "        self.max_pool2 = nn.MaxPool2d(kernel_size = 2, stride = 2)\n",
    "        \n",
    "        self.fc1 = nn.Linear(1600, 128)\n",
    "        self.relu1 = nn.ReLU()\n",
    "        self.fc2 = nn.Linear(128, num_classes)\n",
    "        \n",
    "        #Initialize the mask tensors for each layer\n",
    "        layers = ['conv_layer1', 'conv_layer2', 'conv_layer3','conv_layer4', 'fc1', 'fc2']\n",
    "        self.masks = []\n",
    "        for layer in layers:\n",
    "            self.masks.append(torch.nn.Parameter(torch.Tensor(torch.ones_like(self.__getattr__(layer).weight))))\n",
    "    \n",
    "    # Progresses data across layers    \n",
    "    def forward(self, x):\n",
    "        \n",
    "        out = self.conv_layer1(x)\n",
    "        out = self.conv_layer2(out)\n",
    "        out = self.bn1(out)\n",
    "        out = self.max_pool1(out)\n",
    "        \n",
    "        out = self.conv_layer3(out)\n",
    "        out = self.conv_layer4(out)\n",
    "        out = self.bn2(out)\n",
    "        out = self.max_pool2(out)\n",
    "        \n",
    "        out = out.reshape(out.size(0), -1)\n",
    "        \n",
    "        out = self.fc1(out)\n",
    "        out = self.relu1(out)\n",
    "        out = self.fc2(out)\n",
    "        return out"
   ]
  },
  {
   "cell_type": "markdown",
   "id": "96e93cf4",
   "metadata": {},
   "source": [
    "### Model training routine for each round\n"
   ]
  },
  {
   "cell_type": "code",
   "execution_count": 7,
   "id": "40e0c9de",
   "metadata": {},
   "outputs": [],
   "source": [
    "def train_model(epochs, dataloader, device, model, optimizer, loss_function):\n",
    "    # Set model to training mode in order to unfreeze all layers and allow gradient propagation\n",
    "    model.train()\n",
    "        \n",
    "    # These two lists will be used to store average loss and accuracy for each epoch\n",
    "    total_loss, acc = list(), list()\n",
    "    \n",
    "    for epoch in range(epochs):\n",
    "        print(\"Epoch:\", epoch+1)\n",
    "        \n",
    "        # Each batch produces a loss, predictions and target\n",
    "        batch_loss, batch_preds, batch_target = 0, list(), list()\n",
    "        \n",
    "        #Load in the data in batches using the train_loader object\n",
    "        for i, (images, labels) in enumerate(tqdm(train_loader)):          \n",
    "            # Move tensors to the configured device\n",
    "            images, labels = images.to(device), labels.to(device)            \n",
    "            # Remove all previous gradients\n",
    "            optimizer.zero_grad()            \n",
    "            # Get predictions by performing a forward pass\n",
    "            preds = model(images)            \n",
    "            # Calculate error\n",
    "            loss = loss_function(preds, labels)            \n",
    "            # Calculate all the gradients for each layer\n",
    "            loss.backward()            \n",
    "            # Finall, update the weights\n",
    "            optimizer.step()             \n",
    "            # Save the loss\n",
    "            batch_loss+= loss.item()            \n",
    "            # Save the predictions and target\n",
    "            batch_preds.extend(np.argmax(preds.cpu().detach().numpy(), axis=1))\n",
    "            batch_target.extend(labels.cpu().detach().numpy())        \n",
    "        # Calculate average loss\n",
    "        total_loss.append(batch_loss/len(dataloader))   \n",
    "    return model, total_loss\n",
    "\n",
    "\n",
    "def test_model(dataloader, device, model):  \n",
    "    # Set model to eval mode in order to freeze all layers so that no parameter gets updated during testing\n",
    "    model.eval()\n",
    "    with torch.no_grad():\n",
    "        correct, total = 0, 0        \n",
    "        for images, labels in tqdm(train_loader):        \n",
    "            # Make sure that data is on the same device as the model\n",
    "            images, labels = images.to(device), labels.to(device)            \n",
    "            preds = model(images)        \n",
    "            _, predicted = torch.max(preds.data, 1)\n",
    "            total += labels.size(0)\n",
    "            correct += (predicted == labels).sum().item()\n",
    "        accuracy= correct / total\n",
    "\n",
    "    return accuracy"
   ]
  },
  {
   "cell_type": "markdown",
   "id": "275235c3",
   "metadata": {},
   "source": [
    "### 3/4 Run the CNN for 25 epochs to get baseline results."
   ]
  },
  {
   "cell_type": "code",
   "execution_count": null,
   "id": "68214921",
   "metadata": {},
   "outputs": [],
   "source": [
    "# Set the number of epochs to be used\n",
    "epochs = 25\n",
    "# Create the model\n",
    "model = ConvNeuralNet(num_classes).to(device)\n",
    "# Define Loss\n",
    "loss_function = nn.CrossEntropyLoss()\n",
    "# Set optimizer with optimizer\n",
    "optimizer = torch.optim.SGD(model.parameters(), lr=learning_rate) \n",
    "model, _= train_model(epochs, train_loader, device, model, optimizer, loss_function)\n",
    "print(\"Accuracy: \", test_model(test_loader, device, model))"
   ]
  },
  {
   "cell_type": "markdown",
   "id": "a0ebba2c",
   "metadata": {},
   "source": [
    "### Defingin a Common function for pruning"
   ]
  },
  {
   "cell_type": "code",
   "execution_count": 241,
   "id": "fb5bba4c",
   "metadata": {},
   "outputs": [],
   "source": [
    "def pruning(epochs, rounds, sparsities, pruningType):\n",
    "        \n",
    "    # Create the model\n",
    "    model = ConvNeuralNet(num_classes).to(device)\n",
    "    # Define Loss\n",
    "    loss_function = nn.CrossEntropyLoss()\n",
    "    # Set optimizer with optimizer\n",
    "    optimizer = torch.optim.SGD(model.parameters(), lr=learning_rate)\n",
    " \n",
    "    # Store the validation accuracy for each sparsity level\n",
    "    val_accuracies = []\n",
    "\n",
    "    # First save the model weights that have been initialized\n",
    "    init_weights = [model.__getattr__(layer).weight.data.to(device) for layer in layers]\n",
    "\n",
    "    for sparsity in sparsities:\n",
    "        print(\"\\n\\n\\nFor Sparsity: \", sparsity, \"\\n-----------------------\")    \n",
    "\n",
    "        # Reset the model weights and masks\n",
    "        for i, layer in enumerate(layers):\n",
    "            model.__getattr__(layer).weight.data.copy_(init_weights[i])\n",
    "            model.masks[i] = torch.ones_like(model.masks[i])\n",
    "\n",
    "        for round_ in range(rounds):\n",
    "            print(\"\\n\\nROUND\", round_+1, \"Started\\n----------------------\")\n",
    "\n",
    "            #First train the model for some epochs\n",
    "            model, _ = train_model(epochs, train_loader, device, model, optimizer, loss_function)\n",
    "\n",
    "            with torch.no_grad():\n",
    "                # Now prune the model weights\n",
    "                for i, layer in enumerate(layers):\n",
    "                    if isinstance(layer, nn.Conv2d):\n",
    "                        num_filters = layer.weight.data.shape[0]\n",
    "                        num_channels = layer.weight.data.shape[1]\n",
    "                        filter_size = layer.weight.data.shape[2] * layer.weight.data.shape[3]\n",
    "                        \n",
    "                        if(pruningType == 'LTH'):\n",
    "                            # Lottery Ticket Style Pruning\n",
    "                            indices = torch.argsort(torch.reshape(torch.abs(layer.weight.data), (1, num_filters*num_channels*filter_size)).squeeze())\n",
    "                        elif(pruningType == 'rnd'):\n",
    "                            # Random pruning\n",
    "                            indices = np.random.randint(0, num_channels*num_filters*filter_size, num_channels*num_filters*filter_size)\n",
    "                            \n",
    "                        # Since we already have the indices to prune, first reset the parameters\n",
    "                        model.__getattr__(layer).weight.copy_(init_weights[i])\n",
    "\n",
    "                        # Now prune\n",
    "                        model.masks[i] = torch.reshape(model.masks[i], (1, num_filters*num_channels*filter_size)).squeeze()\n",
    "                        val = ((sparsity*100)**((round_+1)/rounds))/100\n",
    "                        model.masks[i][indices[:math.ceil(val*num_filters*num_channels*filter_size)]] = 0\n",
    "                        model.masks[i] = torch.reshape(torch.reshape(model.masks[i], (1, num_filters*num_channels*filter_size)).squeeze(), (num_filters, num_channels, layer.weight.data.shape[2], layer.weight.data.shape[3]))\n",
    "\n",
    "            # Compute the validation accuracy\n",
    "            val_acc = test_model(test_loader, device, model)\n",
    "            val_accuracies.append(val_acc)\n",
    "            print(\"Test Accuracy: \", val_acc)\n",
    "    return val_accuracies"
   ]
  },
  {
   "cell_type": "markdown",
   "id": "ff0a871a",
   "metadata": {},
   "source": [
    "### Performing Lottery Ticket pruning \n",
    "   "
   ]
  },
  {
   "cell_type": "code",
   "execution_count": null,
   "id": "561afee2",
   "metadata": {},
   "outputs": [],
   "source": [
    "epochs = 5\n",
    "rounds = 5\n",
    "sparsities = [0.1, 0.2, 0.3, 0.4, 0.5]\n",
    "\n",
    "accLTH = pruning(epochs, rounds, sparsities, 'LTH')\n",
    "accLTH"
   ]
  },
  {
   "cell_type": "markdown",
   "id": "043775f2",
   "metadata": {},
   "source": [
    "### Performing random pruning \n"
   ]
  },
  {
   "cell_type": "code",
   "execution_count": null,
   "id": "f7448471",
   "metadata": {},
   "outputs": [],
   "source": [
    "epochs = 5\n",
    "rounds = 5\n",
    "sparsities = [0.1, 0.2, 0.3, 0.4, 0.5]\n",
    "\n",
    "accRnd = pruning(epochs, rounds, sparsities, 'rnd')\n",
    "accRnd"
   ]
  },
  {
   "cell_type": "markdown",
   "id": "ed8b2d07",
   "metadata": {},
   "source": [
    "### 5. Plot a graph of sparsity vs validation accuracy"
   ]
  },
  {
   "cell_type": "code",
   "execution_count": null,
   "id": "92199ef4",
   "metadata": {},
   "outputs": [],
   "source": [
    "import matplotlib.pyplot as plt\n",
    "import seaborn as sns\n",
    "\n",
    "sns.lineplot(x=sparsities, y=accLTH, label=\"LTH\")\n",
    "sns.lineplot(x=sparsities, y=accRnd, label=\"random\")\n",
    "plt.xlabel(\"Sparsity(%)\")\n",
    "plt.ylabel(\"Validation Accuracy\")\n",
    "sns.despine()"
   ]
  },
  {
   "cell_type": "markdown",
   "id": "9b1f2d76",
   "metadata": {},
   "source": [
    "### 6. The Lottery Ticket style pruning using different hyper-parameters\n",
    "\n"
   ]
  },
  {
   "cell_type": "code",
   "execution_count": null,
   "id": "dac9d67f",
   "metadata": {},
   "outputs": [],
   "source": [
    "rounds = [1, 2, 3, 4, 5]\n",
    "epochs = [30, 15, 10, 7, 6]\n",
    "sparcities = [0.5]\n",
    "\n",
    "for i, round_ in enumerate(rounds):\n",
    "    acc = pruning(epochs[i], round_, sparsities, 'LTH')\n",
    "    sns.lineplot(x=round_, y=acc, label=\"LTH\")\n",
    "\n",
    "plt.ylabel(\"Validation Accuracy\")\n",
    "sns.despine()"
   ]
  },
  {
   "cell_type": "markdown",
   "id": "19b111d4",
   "metadata": {},
   "source": [
    "### 7. Initializing wts randomly after pruning "
   ]
  },
  {
   "cell_type": "code",
   "execution_count": null,
   "id": "bb918691",
   "metadata": {},
   "outputs": [],
   "source": [
    "epochs = 5\n",
    "rounds = 5\n",
    "sparsity = 0.5\n",
    "\n",
    "# Create the model\n",
    "model = ConvNeuralNet(num_classes).to(device)\n",
    "# Define Loss\n",
    "loss_function = nn.CrossEntropyLoss()\n",
    "# Set optimizer with optimizer\n",
    "optimizer = torch.optim.SGD(model.parameters(), lr=learning_rate)\n",
    " \n",
    "# Store the validation accuracy for each sparsity level\n",
    "val_accuracies = []\n",
    "\n",
    "# First save the model weights that have been initialized\n",
    "init_weights = [model.__getattr__(layer).weight.data.to(device) for layer in layers]\n",
    "\n",
    "for round_ in range(rounds):\n",
    "    print(\"\\n\\nROUND\", round_+1, \"Started\\n----------------------\")\n",
    "\n",
    "    #First train the model for some epochs\n",
    "#     model, _ = train_model(epochs, train_loader, device, model, optimizer, loss_function)\n",
    "\n",
    "    with torch.no_grad():\n",
    "        # Now prune the model weights\n",
    "        for i, layer in enumerate(layers):\n",
    "            if isinstance(layer, nn.Conv2d):\n",
    "                num_filters = layer.weight.data.shape[0]\n",
    "                num_channels = layer.weight.data.shape[1]\n",
    "                filter_size = layer.weight.data.shape[2] * layer.weight.data.shape[3]\n",
    "                        \n",
    "                # Lottery Ticket Style Pruning\n",
    "                indices = torch.argsort(torch.reshape(torch.abs(layer.weight.data), (1, num_filters*num_channels*filter_size)).squeeze())\n",
    "                \n",
    "                # Since we already have the indices to prune, first reset the parameters\n",
    "                model.__getattr__(layer).weight.copy_(init_weights[i])\n",
    "\n",
    "                # Now prune\n",
    "                model.masks[i] = torch.reshape(model.masks[i], (1, num_filters*num_channels*filter_size)).squeeze()\n",
    "                val = ((sparsity*100)**((round_+1)/rounds))/100\n",
    "                model.masks[i][indices[:math.ceil(val*num_filters*num_channels*filter_size)]] = 0\n",
    "                model.masks[i] = torch.reshape(torch.reshape(model.masks[i], (1, num_filters*num_channels*filter_size)).squeeze(), (num_filters, num_channels, layer.weight.data.shape[2], layer.weight.data.shape[3]))\n",
    "                \n",
    "                # Re-initialize the pruned weights randomly\n",
    "                torch.nn.init.kaiming_uniform_(model.__getattr__(layer).weight.data[model.masks[i] == 1])\n",
    "    \n",
    "    # Compute the validation accuracy\n",
    "    val_acc = test_model(test_loader, device, model)\n",
    "    val_accuracies.append(val_acc)\n",
    "    print(\"Test Accuracy: \", val_acc)\n"
   ]
  },
  {
   "cell_type": "code",
   "execution_count": null,
   "id": "f92d731c",
   "metadata": {},
   "outputs": [],
   "source": []
  },
  {
   "cell_type": "code",
   "execution_count": null,
   "id": "b81e79c0",
   "metadata": {},
   "outputs": [],
   "source": []
  }
 ],
 "metadata": {
  "kernelspec": {
   "display_name": "Python 3 (ipykernel)",
   "language": "python",
   "name": "python3"
  },
  "language_info": {
   "codemirror_mode": {
    "name": "ipython",
    "version": 3
   },
   "file_extension": ".py",
   "mimetype": "text/x-python",
   "name": "python",
   "nbconvert_exporter": "python",
   "pygments_lexer": "ipython3",
   "version": "3.10.9"
  }
 },
 "nbformat": 4,
 "nbformat_minor": 5
}
