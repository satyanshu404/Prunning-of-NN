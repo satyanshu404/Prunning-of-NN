{
 "cells": [
  {
   "cell_type": "code",
   "execution_count": 1,
   "id": "cc5159cd",
   "metadata": {},
   "outputs": [],
   "source": [
    "# Imports\n",
    "import torch\n",
    "from torch import nn  # All neural network modules\n",
    "from torch import optim  # For optimizers like SGD, Adam, etc.\n",
    "from torch.utils.data import Dataset, DataLoader  # Gives easier dataset managment\n",
    "import torchvision\n",
    "import torchvision.datasets as datasets  # Standard datasets\n",
    "import torchvision.transforms as transforms  # Transformations we can perform on our dataset for augmentation\n",
    "import math\n",
    "import os\n",
    "import random\n",
    "import numpy as np\n",
    "from tqdm.notebook import tqdm\n",
    "from sklearn.metrics import accuracy_score"
   ]
  },
  {
     "data": {
      "text/plain": [
       "device(type='cpu')"
      ]
     },
     "execution_count": 2,
     "metadata": {},
     "output_type": "execute_result"
    }
   ],
   "source": [
    "def set_seed(seed=27):\n",
    "    np.random.seed(seed)\n",
    "    random.seed(seed)\n",
    "    torch.manual_seed(seed)\n",
    "    torch.cuda.manual_seed(seed)\n",
    "    # When running on the CuDNN backend, two further options must be set\n",
    "    torch.backends.cudnn.deterministic = True\n",
    "    torch.backends.cudnn.benchmark = False\n",
    "    # Set a fixed value for the hash seed\n",
    "    os.environ[\"PYTHONHASHSEED\"] = str(seed)\n",
    "    print(f\"Random seed set as {seed}\")\n",
    "\n",
    "# Create a device variable which will be used to shift model and data to GPU if available\n",
    "device = torch.device(\"cuda\" if torch.cuda.is_available() else \"cpu\")\n",
    "set_seed(seed=27)\n",
    "device"
   ]
  },
  {
   "cell_type": "markdown",
   "id": "30f8d3a8",
   "metadata": {},
   "source": [
    "### 1. Download CIFAR10 dataset from torchvision"
   ]
  },
  {
   "cell_type": "code",
   "execution_count": 3,
   "id": "e9eb2dac",
   "metadata": {
    "scrolled": false
   },
   "outputs": [
    {
     "name": "stdout",
     "output_type": "stream",
     "text": [
      "Files already downloaded and verified\n",
      "Files already downloaded and verified\n",
      "50000\n",
      "10000\n"
     ]
    }
   ],
   "source": [
    "train_dataset = datasets.CIFAR10(root=\"dataset/\", train=True, transform=transforms.ToTensor(), download=True)\n",
    "test_dataset = datasets.CIFAR10(root=\"dataset/\", train=False, transform=transforms.ToTensor(), download=True)\n",
    "\n",
    "print(len(train_dataset)) \n",
    "print(len(test_dataset)) "
   ]
  },
  {
   "cell_type": "code",
   "execution_count": 4,
   "id": "15b78eb1",
   "metadata": {},
   "outputs": [],
   "source": [
    "# Hyperparameters \n",
    "batch_size = 64\n",
    "num_classes = 10\n",
    "learning_rate = 0.01\n",
    "num_epochs = 25"
   ]
  },
  {
   "cell_type": "code",
   "execution_count": 5,
   "id": "4e67738b",
   "metadata": {},
   "outputs": [],
   "source": [
    "# Making dataset iterable\n",
    "train_loader = DataLoader(dataset=train_dataset, batch_size=batch_size)\n",
    "test_loader = DataLoader(dataset=test_dataset, batch_size=batch_size)"
   ]
  },
  {
   "cell_type": "markdown",
   "id": "98c0aa20",
   "metadata": {},
   "source": [
    "### 2. Creating a Convolutional Neural Network (CNN)"
   ]
  },
  {
   "cell_type": "code",
   "execution_count": 6,
   "id": "30f04f5a",
   "metadata": {},
   "outputs": [],
   "source": [
    "# Creating a CNN class\n",
    "class ConvNeuralNet(nn.Module):\n",
    "\t#  Determine what layers and their order in CNN object \n",
    "    def __init__(self, num_classes):\n",
    "        super(ConvNeuralNet, self).__init__()\n",
    "        self.conv_layer1 = nn.Conv2d(in_channels=3, out_channels=32, kernel_size=3)\n",
    "        self.conv_layer2 = nn.Conv2d(in_channels=32, out_channels=32, kernel_size=3)\n",
    "        self.bn1 = nn.BatchNorm2d(32)\n",
    "        self.max_pool1 = nn.MaxPool2d(kernel_size = 2, stride = 2)\n",
    "        \n",
    "        self.conv_layer3 = nn.Conv2d(in_channels=32, out_channels=64, kernel_size=3)\n",
    "        self.conv_layer4 = nn.Conv2d(in_channels=64, out_channels=64, kernel_size=3)\n",
    "        self.bn2 = nn.BatchNorm2d(64)\n",
    "        self.max_pool2 = nn.MaxPool2d(kernel_size = 2, stride = 2)\n",
    "        \n",
    "        self.fc1 = nn.Linear(1600, 128)\n",
    "        self.relu1 = nn.ReLU()\n",
    "        self.fc2 = nn.Linear(128, num_classes)\n",
    "        \n",
    "        #Initialize the mask tensors for each layer\n",
    "        layers = ['conv_layer1', 'conv_layer2', 'conv_layer3','conv_layer4', 'fc1', 'fc2']\n",
    "        self.masks = []\n",
    "        for layer in layers:\n",
    "            self.masks.append(torch.nn.Parameter(torch.Tensor(torch.ones_like(self.__getattr__(layer).weight))))\n",
    "    \n",
    "    # Progresses data across layers    \n",
    "    def forward(self, x):\n",
    "        \n",
    "        out = self.conv_layer1(x)\n",
    "        out = self.conv_layer2(out)\n",
    "        out = self.bn1(out)\n",
    "        out = self.max_pool1(out)\n",
    "        \n",
    "        out = self.conv_layer3(out)\n",
    "        out = self.conv_layer4(out)\n",
    "        out = self.bn2(out)\n",
    "        out = self.max_pool2(out)\n",
    "        \n",
    "        out = out.reshape(out.size(0), -1)\n",
    "        \n",
    "        out = self.fc1(out)\n",
    "        out = self.relu1(out)\n",
    "        out = self.fc2(out)\n",
    "        return out"
   ]
  },
  {
   "cell_type": "markdown",
   "id": "96e93cf4",
   "metadata": {},
   "source": [
    "### Model training routine for each round\n"
   ]
  },
  {
   "cell_type": "code",
   "execution_count": 7,
   "id": "40e0c9de",
   "metadata": {},
   "outputs": [],
   "source": [
    "def train_model(epochs, dataloader, device, model, optimizer, loss_function):\n",
    "    # Set model to training mode in order to unfreeze all layers and allow gradient propagation\n",
    "    model.train()\n",
    "        \n",
    "    # These two lists will be used to store average loss and accuracy for each epoch\n",
    "    total_loss, acc = list(), list()\n",
    "    \n",
    "    for epoch in range(epochs):\n",
    "        print(\"Epoch:\", epoch+1)\n",
    "        \n",
    "        # Each batch produces a loss, predictions and target\n",
    "        batch_loss, batch_preds, batch_target = 0, list(), list()\n",
    "        \n",
    "        #Load in the data in batches using the train_loader object\n",
    "        for i, (images, labels) in enumerate(tqdm(train_loader)):          \n",
    "            # Move tensors to the configured device\n",
    "            images, labels = images.to(device), labels.to(device)            \n",
    "            # Remove all previous gradients\n",
    "            optimizer.zero_grad()            \n",
    "            # Get predictions by performing a forward pass\n",
    "            preds = model(images)            \n",
    "            # Calculate error\n",
    "            loss = loss_function(preds, labels)            \n",
    "            # Calculate all the gradients for each layer\n",
    "            loss.backward()            \n",
    "            # Finall, update the weights\n",
    "            optimizer.step()             \n",
    "            # Save the loss\n",
    "            batch_loss+= loss.item()            \n",
    "            # Save the predictions and target\n",
    "            batch_preds.extend(np.argmax(preds.cpu().detach().numpy(), axis=1))\n",
    "            batch_target.extend(labels.cpu().detach().numpy())        \n",
    "        # Calculate average loss\n",
    "        total_loss.append(batch_loss/len(dataloader))   \n",
    "    return model, total_loss\n",
    "\n",
    "\n",
    "def test_model(dataloader, device, model):  \n",
    "    # Set model to eval mode in order to freeze all layers so that no parameter gets updated during testing\n",
    "    model.eval()\n",
    "    with torch.no_grad():\n",
    "        correct, total = 0, 0        \n",
    "        for images, labels in tqdm(train_loader):        \n",
    "            # Make sure that data is on the same device as the model\n",
    "            images, labels = images.to(device), labels.to(device)            \n",
    "            preds = model(images)        \n",
    "            _, predicted = torch.max(preds.data, 1)\n",
    "            total += labels.size(0)\n",
    "            correct += (predicted == labels).sum().item()\n",
    "        accuracy= correct / total\n",
    "\n",
    "    return accuracy"
   ]
  },
  {
   "cell_type": "markdown",
   "id": "275235c3",
   "metadata": {},
   "source": [
    "### 3/4 Run the CNN for 25 epochs to get baseline results."
   ]
  },
  {
   "cell_type": "code",
   "execution_count": null,
   "id": "433c3317",
   "metadata": {},
   "outputs": [
    {
     "name": "stdout",
     "output_type": "stream",
     "text": [
      "Epoch: 1\n"
     ]
    },
    {
     "data": {
      "application/vnd.jupyter.widget-view+json": {
       "model_id": "f1d58e0286d445158024fd8d1dcfa897",
       "version_major": 2,
       "version_minor": 0
      },
      "text/plain": [
       "  0%|          | 0/782 [00:00<?, ?it/s]"
      ]
     },
     "metadata": {},
     "output_type": "display_data"
    },
    {
     "name": "stdout",
     "output_type": "stream",
     "text": [
      "Epoch: 2\n"
     ]
    },
    {
     "data": {
      "application/vnd.jupyter.widget-view+json": {
       "model_id": "3a4473c8f5e54dc0be1e2035713699e7",
       "version_major": 2,
       "version_minor": 0
      },
      "text/plain": [
       "  0%|          | 0/782 [00:00<?, ?it/s]"
      ]
     },
     "metadata": {},
     "output_type": "display_data"
    },
    {
     "name": "stdout",
     "output_type": "stream",
     "text": [
      "Epoch: 3\n"
     ]
    },
    {
     "data": {
      "application/vnd.jupyter.widget-view+json": {
       "model_id": "fcd40dbe3e7f4dffa38c4df88e4db81c",
       "version_major": 2,
       "version_minor": 0
      },
      "text/plain": [
       "  0%|          | 0/782 [00:00<?, ?it/s]"
      ]
     },
     "metadata": {},
     "output_type": "display_data"
    },
    {
     "name": "stdout",
     "output_type": "stream",
     "text": [
      "Epoch: 4\n"
     ]
    },
    {
     "data": {
      "application/vnd.jupyter.widget-view+json": {
       "model_id": "06b12fac32eb47549f4ead008239529e",
       "version_major": 2,
       "version_minor": 0
      },
      "text/plain": [
       "  0%|          | 0/782 [00:00<?, ?it/s]"
      ]
     },
     "metadata": {},
     "output_type": "display_data"
    },
    {
     "name": "stdout",
     "output_type": "stream",
     "text": [
      "Epoch: 5\n"
     ]
    },
    {
     "data": {
      "application/vnd.jupyter.widget-view+json": {
       "model_id": "15e6a41895d643de8c74caa727e14968",
       "version_major": 2,
       "version_minor": 0
      },
      "text/plain": [
       "  0%|          | 0/782 [00:00<?, ?it/s]"
      ]
     },
     "metadata": {},
     "output_type": "display_data"
    },
    {
     "name": "stdout",
     "output_type": "stream",
     "text": [
      "Epoch: 6\n"
     ]
    },
    {
     "data": {
      "application/vnd.jupyter.widget-view+json": {
       "model_id": "7a3ee71383374cde87365ae87f3f189c",
       "version_major": 2,
       "version_minor": 0
      },
      "text/plain": [
       "  0%|          | 0/782 [00:00<?, ?it/s]"
      ]
     },
     "metadata": {},
     "output_type": "display_data"
    },
    {
     "name": "stdout",
     "output_type": "stream",
     "text": [
      "Epoch: 7\n"
     ]
    },
    {
     "data": {
      "application/vnd.jupyter.widget-view+json": {
       "model_id": "30812ac82190403283cbc86dd29e85a8",
       "version_major": 2,
       "version_minor": 0
      },
      "text/plain": [
       "  0%|          | 0/782 [00:00<?, ?it/s]"
      ]
     },
     "metadata": {},
     "output_type": "display_data"
    },
    {
     "name": "stdout",
     "output_type": "stream",
     "text": [
      "Epoch: 8\n"
     ]
    },
    {
     "data": {
      "application/vnd.jupyter.widget-view+json": {
       "model_id": "07ad34e5a6ba4c489a7e096b9b5e8a4c",
       "version_major": 2,
       "version_minor": 0
      },
      "text/plain": [
       "  0%|          | 0/782 [00:00<?, ?it/s]"
      ]
     },
     "metadata": {},
     "output_type": "display_data"
    },
    {
     "name": "stdout",
     "output_type": "stream",
     "text": [
      "Epoch: 9\n"
     ]
    },
    {
     "data": {
      "application/vnd.jupyter.widget-view+json": {
       "model_id": "23b02027c24d478b8c74009f29efd98f",
       "version_major": 2,
       "version_minor": 0
      },
      "text/plain": [
       "  0%|          | 0/782 [00:00<?, ?it/s]"
      ]
     },
     "metadata": {},
     "output_type": "display_data"
    }
   ],
   "source": [
    "# Set the number of epochs to be used\n",
    "epochs = 25\n",
    "# Create the model\n",
    "model = ConvNeuralNet(num_classes).to(device)\n",
    "# Define Loss\n",
    "loss_function = nn.CrossEntropyLoss()\n",
    "# Set optimizer with optimizer\n",
    "optimizer = torch.optim.SGD(model.parameters(), lr=learning_rate) \n",
    "model, _= train_model(epochs, train_loader, device, model, optimizer, loss_function)\n",
    "print(\"Accuracy: \", test_model(test_loader, device, model))"
   ]
  },
  {
   "cell_type": "markdown",
   "id": "a0ebba2c",
   "metadata": {},
   "source": [
    "### Defingin a Common function for pruning"
   ]
  },
  {
   "cell_type": "code",
   "execution_count": 241,
   "id": "fb5bba4c",
   "metadata": {},
   "outputs": [],
   "source": [
    "def pruning(epochs, rounds, sparsities, pruningType):\n",
    "        \n",
    "    # Create the model\n",
    "    model = ConvNeuralNet(num_classes).to(device)\n",
    "    # Define Loss\n",
    "    loss_function = nn.CrossEntropyLoss()\n",
    "    # Set optimizer with optimizer\n",
    "    optimizer = torch.optim.SGD(model.parameters(), lr=learning_rate)\n",
    " \n",
    "    # Store the validation accuracy for each sparsity level\n",
    "    val_accuracies = []\n",
    "\n",
    "    # First save the model weights that have been initialized\n",
    "    init_weights = [model.__getattr__(layer).weight.data.to(device) for layer in layers]\n",
    "\n",
    "    for sparsity in sparsities:\n",
    "        print(\"\\n\\n\\nFor Sparsity: \", sparsity, \"\\n-----------------------\")    \n",
    "\n",
    "        # Reset the model weights and masks\n",
    "        for i, layer in enumerate(layers):\n",
    "            model.__getattr__(layer).weight.data.copy_(init_weights[i])\n",
    "            model.masks[i] = torch.ones_like(model.masks[i])\n",
    "\n",
    "        for round_ in range(rounds):\n",
    "            print(\"\\n\\nROUND\", round_+1, \"Started\\n----------------------\")\n",
    "\n",
    "            #First train the model for some epochs\n",
    "            model, _ = train_model(epochs, train_loader, device, model, optimizer, loss_function)\n",
    "\n",
    "            with torch.no_grad():\n",
    "                # Now prune the model weights\n",
    "                for i, layer in enumerate(layers):\n",
    "                    if isinstance(layer, nn.Conv2d):\n",
    "                        num_filters = layer.weight.data.shape[0]\n",
    "                        num_channels = layer.weight.data.shape[1]\n",
    "                        filter_size = layer.weight.data.shape[2] * layer.weight.data.shape[3]\n",
    "                        \n",
    "                        if(pruningType == 'LTH'):\n",
    "                            # Lottery Ticket Style Pruning\n",
    "                            indices = torch.argsort(torch.reshape(torch.abs(layer.weight.data), (1, num_filters*num_channels*filter_size)).squeeze())\n",
    "                        elif(pruningType == 'rnd'):\n",
    "                            # Random pruning\n",
    "                            indices = np.random.randint(0, num_channels*num_filters*filter_size, num_channels*num_filters*filter_size)\n",
    "                            \n",
    "                        # Since we already have the indices to prune, first reset the parameters\n",
    "                        model.__getattr__(layer).weight.copy_(init_weights[i])\n",
    "\n",
    "                        # Now prune\n",
    "                        model.masks[i] = torch.reshape(model.masks[i], (1, num_filters*num_channels*filter_size)).squeeze()\n",
    "                        val = ((sparsity*100)**((round_+1)/rounds))/100\n",
    "                        model.masks[i][indices[:math.ceil(val*num_filters*num_channels*filter_size)]] = 0\n",
    "                        model.masks[i] = torch.reshape(torch.reshape(model.masks[i], (1, num_filters*num_channels*filter_size)).squeeze(), (num_filters, num_channels, layer.weight.data.shape[2], layer.weight.data.shape[3]))\n",
    "\n",
    "            # Compute the validation accuracy\n",
    "            val_acc = test_model(test_loader, device, model)\n",
    "            val_accuracies.append(val_acc)\n",
    "            print(\"Test Accuracy: \", val_acc)\n",
    "    return val_accuracies"
   ]
  },
  {
   "cell_type": "markdown",
   "id": "ff0a871a",
   "metadata": {},
   "source": [
    "### Performing Lottery Ticket pruning \n",
    "   "
   ]
  },
  {
   "cell_type": "code",
   "execution_count": 240,
   "id": "c6b5fab5",
   "metadata": {
    "scrolled": true
   },
   "outputs": [
    {
     "name": "stdout",
     "output_type": "stream",
     "text": [
      "\n",
      "\n",
      "\n",
      "For Sparsity:  0.1 \n",
      "-----------------------\n",
      "\n",
      "\n",
      "ROUND 1 Started\n",
      "----------------------\n"
     ]
    },
    {
     "data": {
      "application/vnd.jupyter.widget-view+json": {
       "model_id": "5ca5d10683f645beb44e0b561d85122b",
       "version_major": 2,
       "version_minor": 0
      },
      "text/plain": [
       "  0%|          | 0/782 [00:00<?, ?it/s]"
      ]
     },
     "metadata": {},
     "output_type": "display_data"
    },
    {
     "name": "stdout",
     "output_type": "stream",
     "text": [
      "Test Accuracy after pruning but no retraining: 0.10276\n",
      "\n",
      "\n",
      "\n",
      "For Sparsity:  0.2 \n",
      "-----------------------\n",
      "\n",
      "\n",
      "ROUND 1 Started\n",
      "----------------------\n"
     ]
    },
    {
     "data": {
      "application/vnd.jupyter.widget-view+json": {
       "model_id": "862f40c9b2b14903a4a264ec24086dc3",
       "version_major": 2,
       "version_minor": 0
      },
      "text/plain": [
       "  0%|          | 0/782 [00:00<?, ?it/s]"
      ]
     },
     "metadata": {},
     "output_type": "display_data"
    },
    {
     "name": "stdout",
     "output_type": "stream",
     "text": [
      "Test Accuracy after pruning but no retraining: 0.10276\n"
     ]
    },
    {
     "data": {
      "text/plain": [
       "[0.10276, 0.10276]"
      ]
     },
     "execution_count": 240,
     "metadata": {},
     "output_type": "execute_result"
    }
   ],
   "source": [
    "epochs = 5\n",
    "rounds = 5\n",
    "sparsities = [0.1, 0.2, 0.3, 0.4, 0.5]\n",
    "\n",
    "accLTH = pruning(epochs, rounds, sparsities, 'LTH')\n",
    "accLTH"
   ]
  },
  {
   "cell_type": "markdown",
   "id": "043775f2",
   "metadata": {},
   "source": [
    "### Performing random pruning \n"
   ]
  },
  {
   "cell_type": "code",
   "execution_count": 242,
   "id": "85d4e7d2",
   "metadata": {},
   "outputs": [
    {
     "name": "stdout",
     "output_type": "stream",
     "text": [
      "\n",
      "\n",
      "\n",
      "For Sparsity:  0.1 \n",
      "-----------------------\n",
      "\n",
      "\n",
      "ROUND 1 Started\n",
      "----------------------\n"
     ]
    },
    {
     "data": {
      "application/vnd.jupyter.widget-view+json": {
       "model_id": "40abcccfc0e54771beaad6e60e47b721",
       "version_major": 2,
       "version_minor": 0
      },
      "text/plain": [
       "  0%|          | 0/782 [00:00<?, ?it/s]"
      ]
     },
     "metadata": {},
     "output_type": "display_data"
    },
    {
     "name": "stdout",
     "output_type": "stream",
     "text": [
      "Test Accuracy:  0.09994\n",
      "\n",
      "\n",
      "\n",
      "For Sparsity:  0.2 \n",
      "-----------------------\n",
      "\n",
      "\n",
      "ROUND 1 Started\n",
      "----------------------\n"
     ]
    },
    {
     "data": {
      "application/vnd.jupyter.widget-view+json": {
       "model_id": "61c842ec99354983a3d61e98aecb8fde",
       "version_major": 2,
       "version_minor": 0
      },
      "text/plain": [
       "  0%|          | 0/782 [00:00<?, ?it/s]"
      ]
     },
     "metadata": {},
     "output_type": "display_data"
    },
    {
     "name": "stdout",
     "output_type": "stream",
     "text": [
      "Test Accuracy:  0.09994\n"
     ]
    },
    {
     "data": {
      "text/plain": [
       "[0.09994, 0.09994]"
      ]
     },
     "execution_count": 242,
     "metadata": {},
     "output_type": "execute_result"
    }
   ],
   "source": [
    "epochs = 5\n",
    "rounds = 5\n",
    "sparsities = [0.1, 0.2, 0.3, 0.4, 0.5]\n",
    "\n",
    "accRnd = pruning(epochs, rounds, sparsities, 'rnd')\n",
    "accRnd"
   ]
  },
  {
   "cell_type": "markdown",
   "id": "ed8b2d07",
   "metadata": {},
   "source": [
    "### 5. Plot a graph of sparsity vs validation accuracy"
   ]
  },
  {
   "cell_type": "code",
   "execution_count": 244,
   "id": "3acbccd5",
   "metadata": {},
   "outputs": [
    {
     "data": {
      "image/png": "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\n",
      "text/plain": [
       "<Figure size 640x480 with 1 Axes>"
      ]
     },
     "metadata": {},
     "output_type": "display_data"
    }
   ],
   "source": [
    "import matplotlib.pyplot as plt\n",
    "import seaborn as sns\n",
    "\n",
    "sns.lineplot(x=sparsities, y=accLTH, label=\"LTH\")\n",
    "sns.lineplot(x=sparsities, y=accRnd, label=\"random\")\n",
    "plt.xlabel(\"Sparsity(%)\")\n",
    "plt.ylabel(\"Validation Accuracy\")\n",
    "sns.despine()"
   ]
  },
  {
   "cell_type": "markdown",
   "id": "9b1f2d76",
   "metadata": {},
   "source": [
    "### 6. The Lottery Ticket style pruning using different hyper-parameters\n",
    "\n"
   ]
  },
  {
   "cell_type": "code",
   "execution_count": 260,
   "id": "7eafde15",
   "metadata": {},
   "outputs": [
    {
     "name": "stdout",
     "output_type": "stream",
     "text": [
      "\n",
      "\n",
      "\n",
      "For Sparsity:  0.5 \n",
      "-----------------------\n",
      "\n",
      "\n",
      "ROUND 1 Started\n",
      "----------------------\n"
     ]
    },
    {
     "data": {
      "application/vnd.jupyter.widget-view+json": {
       "model_id": "b9e19f7a859f4231b3da931087eedec8",
       "version_major": 2,
       "version_minor": 0
      },
      "text/plain": [
       "  0%|          | 0/782 [00:00<?, ?it/s]"
      ]
     },
     "metadata": {},
     "output_type": "display_data"
    },
    {
     "name": "stdout",
     "output_type": "stream",
     "text": [
      "Test Accuracy:  0.1\n",
      "\n",
      "\n",
      "\n",
      "For Sparsity:  0.5 \n",
      "-----------------------\n",
      "\n",
      "\n",
      "ROUND 1 Started\n",
      "----------------------\n"
     ]
    },
    {
     "data": {
      "application/vnd.jupyter.widget-view+json": {
       "model_id": "95eec91a250d44109d880d7a673ededd",
       "version_major": 2,
       "version_minor": 0
      },
      "text/plain": [
       "  0%|          | 0/782 [00:00<?, ?it/s]"
      ]
     },
     "metadata": {},
     "output_type": "display_data"
    },
    {
     "name": "stdout",
     "output_type": "stream",
     "text": [
      "Test Accuracy:  0.09432\n",
      "\n",
      "\n",
      "ROUND 2 Started\n",
      "----------------------\n"
     ]
    },
    {
     "data": {
      "application/vnd.jupyter.widget-view+json": {
       "model_id": "ba7204c4aa1b4daf849eed3e1891bb12",
       "version_major": 2,
       "version_minor": 0
      },
      "text/plain": [
       "  0%|          | 0/782 [00:00<?, ?it/s]"
      ]
     },
     "metadata": {},
     "output_type": "display_data"
    },
    {
     "name": "stdout",
     "output_type": "stream",
     "text": [
      "Test Accuracy:  0.09432\n"
     ]
    },
    {
     "data": {
      "image/png": "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\n",
      "text/plain": [
       "<Figure size 640x480 with 1 Axes>"
      ]
     },
     "metadata": {},
     "output_type": "display_data"
    }
   ],
   "source": [
    "rounds = [1, 2, 3, 4, 5]\n",
    "epochs = [30, 15, 10, 7, 6]\n",
    "sparcities = [0.5]\n",
    "\n",
    "for i, round_ in enumerate(rounds):\n",
    "    acc = pruning(epochs[i], round_, sparsities, 'LTH')\n",
    "    sns.lineplot(x=round_, y=acc, label=\"LTH\")\n",
    "\n",
    "plt.ylabel(\"Validation Accuracy\")\n",
    "sns.despine()"
   ]
  },
  {
   "cell_type": "markdown",
   "id": "19b111d4",
   "metadata": {},
   "source": [
    "### 7. Initializing wts randomly after pruning "
   ]
  },
  {
   "cell_type": "code",
   "execution_count": 258,
   "id": "b5e33686",
   "metadata": {},
   "outputs": [
    {
     "name": "stdout",
     "output_type": "stream",
     "text": [
      "\n",
      "\n",
      "ROUND 1 Started\n",
      "----------------------\n"
     ]
    },
    {
     "data": {
      "application/vnd.jupyter.widget-view+json": {
       "model_id": "19f524b7349045c6bf7a46a8681d3529",
       "version_major": 2,
       "version_minor": 0
      },
      "text/plain": [
       "  0%|          | 0/782 [00:00<?, ?it/s]"
      ]
     },
     "metadata": {},
     "output_type": "display_data"
    },
    {
     "name": "stdout",
     "output_type": "stream",
     "text": [
      "Test Accuracy:  0.09082\n"
     ]
    }
   ],
   "source": [
    "epochs = 5\n",
    "rounds = 5\n",
    "sparsity = 0.5\n",
    "\n",
    "# Create the model\n",
    "model = ConvNeuralNet(num_classes).to(device)\n",
    "# Define Loss\n",
    "loss_function = nn.CrossEntropyLoss()\n",
    "# Set optimizer with optimizer\n",
    "optimizer = torch.optim.SGD(model.parameters(), lr=learning_rate)\n",
    " \n",
    "# Store the validation accuracy for each sparsity level\n",
    "val_accuracies = []\n",
    "\n",
    "# First save the model weights that have been initialized\n",
    "init_weights = [model.__getattr__(layer).weight.data.to(device) for layer in layers]\n",
    "\n",
    "for round_ in range(rounds):\n",
    "    print(\"\\n\\nROUND\", round_+1, \"Started\\n----------------------\")\n",
    "\n",
    "    #First train the model for some epochs\n",
    "#     model, _ = train_model(epochs, train_loader, device, model, optimizer, loss_function)\n",
    "\n",
    "    with torch.no_grad():\n",
    "        # Now prune the model weights\n",
    "        for i, layer in enumerate(layers):\n",
    "            if isinstance(layer, nn.Conv2d):\n",
    "                num_filters = layer.weight.data.shape[0]\n",
    "                num_channels = layer.weight.data.shape[1]\n",
    "                filter_size = layer.weight.data.shape[2] * layer.weight.data.shape[3]\n",
    "                        \n",
    "                # Lottery Ticket Style Pruning\n",
    "                indices = torch.argsort(torch.reshape(torch.abs(layer.weight.data), (1, num_filters*num_channels*filter_size)).squeeze())\n",
    "                \n",
    "                # Since we already have the indices to prune, first reset the parameters\n",
    "                model.__getattr__(layer).weight.copy_(init_weights[i])\n",
    "\n",
    "                # Now prune\n",
    "                model.masks[i] = torch.reshape(model.masks[i], (1, num_filters*num_channels*filter_size)).squeeze()\n",
    "                val = ((sparsity*100)**((round_+1)/rounds))/100\n",
    "                model.masks[i][indices[:math.ceil(val*num_filters*num_channels*filter_size)]] = 0\n",
    "                model.masks[i] = torch.reshape(torch.reshape(model.masks[i], (1, num_filters*num_channels*filter_size)).squeeze(), (num_filters, num_channels, layer.weight.data.shape[2], layer.weight.data.shape[3]))\n",
    "                \n",
    "                # Re-initialize the pruned weights randomly\n",
    "                torch.nn.init.kaiming_uniform_(model.__getattr__(layer).weight.data[model.masks[i] == 1])\n",
    "    \n",
    "    # Compute the validation accuracy\n",
    "    val_acc = test_model(test_loader, device, model)\n",
    "    val_accuracies.append(val_acc)\n",
    "    print(\"Test Accuracy: \", val_acc)\n"
   ]
  },
  {
   "cell_type": "code",
   "execution_count": null,
   "id": "f92d731c",
   "metadata": {},
   "outputs": [],
   "source": []
  },
  {
   "cell_type": "code",
   "execution_count": null,
   "id": "b81e79c0",
   "metadata": {},
   "outputs": [],
   "source": []
  }
 ],
 "metadata": {
  "kernelspec": {
   "display_name": "Python 3 (ipykernel)",
   "language": "python",
   "name": "python3"
  },
  "language_info": {
   "codemirror_mode": {
    "name": "ipython",
    "version": 3
   },
   "file_extension": ".py",
   "mimetype": "text/x-python",
   "name": "python",
   "nbconvert_exporter": "python",
   "pygments_lexer": "ipython3",
   "version": "3.10.9"
  }
 },
 "nbformat": 4,
 "nbformat_minor": 5
}
